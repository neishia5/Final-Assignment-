{
 "cells": [
  {
   "cell_type": "markdown",
   "id": "ca0a4e60-2888-461a-99a0-055edff88eba",
   "metadata": {},
   "source": [
    "# Data Science Tools and Ecosystem"
   ]
  },
  {
   "cell_type": "markdown",
   "id": "a447bf3d-cf2f-49cd-a7a4-4d9f627b51ad",
   "metadata": {
    "tags": []
   },
   "source": [
    "In this notebook, Data Science Tools and Ecosystem are summarized."
   ]
  },
  {
   "cell_type": "markdown",
   "id": "c686a62c-88b9-4105-97ef-b0982a62d809",
   "metadata": {},
   "source": [
    "Some of the popular languages that Data Scientists use are:\n",
    "1. Python\n",
    "2. SQL\n",
    "3. R\n",
    "4. c++\n",
    "5. Java"
   ]
  },
  {
   "cell_type": "markdown",
   "id": "38b382ea-a748-40ab-9fe1-ff720d39da1a",
   "metadata": {},
   "source": [
    "Some of the commonly used libraries used by Data Scientists include:\n",
    "\n",
    "1. Pandas\n",
    "2. TensorFlow\n",
    "3. SciPy\n",
    "4. NumPy\n",
    "5. Pytorch"
   ]
  },
  {
   "cell_type": "markdown",
   "id": "64e7e9a9-7383-4999-bdcf-d451672aadcc",
   "metadata": {},
   "source": [
    "|Data Science Tools|\n",
    "|------|\n",
    "Jupyter Notebook\n",
    "RStudio\n",
    "Apache Spark"
   ]
  },
  {
   "cell_type": "markdown",
   "id": "c8f2ade3-8c61-491c-bfad-d48a8a95d097",
   "metadata": {},
   "source": [
    "### Below are a few examples of evaluating arithmetic expressions in Python\n"
   ]
  },
  {
   "cell_type": "code",
   "execution_count": 5,
   "id": "2e8e2401-cad1-416d-95c2-f7e53f07a678",
   "metadata": {
    "tags": []
   },
   "outputs": [
    {
     "data": {
      "text/plain": [
       "17"
      ]
     },
     "execution_count": 5,
     "metadata": {},
     "output_type": "execute_result"
    }
   ],
   "source": [
    "#This a simple arithmetic expression to multiply then add integers\n",
    "(3*4)+5"
   ]
  },
  {
   "cell_type": "code",
   "execution_count": 6,
   "id": "88f53b52-b75f-464e-8c40-95f8b6b058c1",
   "metadata": {
    "tags": []
   },
   "outputs": [
    {
     "data": {
      "text/plain": [
       "3.3333333333333335"
      ]
     },
     "execution_count": 6,
     "metadata": {},
     "output_type": "execute_result"
    }
   ],
   "source": [
    "#This will convert 200 minutes to hours by diving by 60\n",
    "200/60"
   ]
  },
  {
   "cell_type": "markdown",
   "id": "3cce0d69-36e6-4097-adcc-716ea86c3be9",
   "metadata": {},
   "source": [
    "__Objectives:__ \n",
    "* List popular libraries for Data Science\n",
    "* List popular languages for Data Science\n",
    "* Do a simple arithmetic expression to multiply then add integers\n"
   ]
  },
  {
   "cell_type": "markdown",
   "id": "22ed9b6e-8166-424e-8452-c220ad563800",
   "metadata": {},
   "source": [
    "## Author\n",
    "Mcknight Samms, Neishia"
   ]
  }
 ],
 "metadata": {
  "kernelspec": {
   "display_name": "Python",
   "language": "python",
   "name": "conda-env-python-py"
  },
  "language_info": {
   "codemirror_mode": {
    "name": "ipython",
    "version": 3
   },
   "file_extension": ".py",
   "mimetype": "text/x-python",
   "name": "python",
   "nbconvert_exporter": "python",
   "pygments_lexer": "ipython3",
   "version": "3.7.12"
  }
 },
 "nbformat": 4,
 "nbformat_minor": 5
}
